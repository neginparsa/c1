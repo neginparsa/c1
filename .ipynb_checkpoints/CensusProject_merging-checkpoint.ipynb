{
 "cells": [
  {
   "cell_type": "code",
   "execution_count": 88,
   "metadata": {
    "collapsed": true,
    "scrolled": false
   },
   "outputs": [],
   "source": [
    "# Dependencies\n",
    "import numpy as np\n",
    "import pandas as pd\n",
    "import matplotlib.pyplot as plt \n",
    "import requests\n",
    "from census import Census\n",
    "from us import states\n",
    "#! pip install us"
   ]
  },
  {
   "cell_type": "code",
   "execution_count": 89,
   "metadata": {
    "collapsed": true
   },
   "outputs": [],
   "source": [
    "\n",
    "\n",
    "census_pd=pd.DataFrame()"
   ]
  },
  {
   "cell_type": "code",
   "execution_count": 90,
   "metadata": {
    "collapsed": true
   },
   "outputs": [],
   "source": [
    "\n",
    "# Census API Key\n",
    "#years = [2011, 2012, 2013, 2014, 2015,2016]\n",
    "l_census=[]\n",
    "#for y in years:\n",
    "c = Census(\"85ac64b6b5a9c0901b00329d1ef41f0c53ccfc98\", year=2011)\n",
    "    # Run Census Search to retrieve data on all zip codes (2013 ACS5 Census)\n",
    "    # See: https://github.com/CommerceDataService/census-wrapper for library documentation\n",
    "    # See: https://gist.github.com/afhaque/60558290d6efd892351c4b64e5c01e9b for labels\n",
    "census_data =c.acs5.get((\"NAME\",\"B01003_001E\",\"B01002_001E\",\"B08136_003E\",\n",
    "                             \"B19013_001E\",\"B19301_001E\",\"B02001_003E\",\n",
    "                             \"B02001_002E\", \"B17001_002E\",\"B25035_001E\",\n",
    "                            # \"B15003_023E\",\n",
    "                             \"B23025_005E\",\"C24010_008E\",\n",
    "                             \"B25077_001E\"),\n",
    "                            {\"for\": \"zip code tabulation area:*\"})\n",
    "    # Convert to DataFrame\n",
    "census_pd_2011 = pd.DataFrame(census_data)\n",
    " \n",
    "    # Column Reordering\n",
    "census_pd_2011 = census_pd_2011.rename(columns={\"B01003_001E\": \"Population 2011\",\n",
    "                                          \"B01002_001E\": \"Median Age 2011\",\n",
    "                                          \"B08136_003E\": \"Commute Time 2011\",\n",
    "                                          \"B19013_001E\": \"Household Income 2011\",\n",
    "                                          \"B19301_001E\": \"Per Capita Income 2011\",\n",
    "                                          \"B02001_003E\": \"Black Population 2011\",\n",
    "                                          \"B02001_002E\": \"White Population 2011\",\n",
    "                                          \"B17001_002E\": \"Poverty Count 2011\",\n",
    "                                          \"B25035_001E\": \"Median Home Year 2011\",\n",
    "                                          \"B15003_022E\": \"Bachelors 2011\",\n",
    "#                                           \"B15003_023E\": \"Masters\",\n",
    "                                          \"B23025_005E\": \"Unemployed 2011\",\n",
    "                                          \"C24010_008E\": \"STEM 2011\",\n",
    "                                          \"B25035_001E\": \"median_house_construction_year 2011\",\n",
    "                                          \"B25058_001E\": \"median_contract_rent 2011\",\n",
    "                                          \"B25064_001E\": \"median_gross_rent 2011\",\n",
    "                                          \"B25077_001E\": \"median_home_value 2011\",\n",
    "                                          \"B25088_002E\": \"median_monthly_owner_costs2011\",\n",
    "                                          \"NAME\": \"Name 2011\", \"zip code tabulation area\": \"Zipcode\"})\n",
    "       \n"
   ]
  },
  {
   "cell_type": "code",
   "execution_count": null,
   "metadata": {
    "collapsed": true
   },
   "outputs": [],
   "source": []
  },
  {
   "cell_type": "code",
   "execution_count": 91,
   "metadata": {},
   "outputs": [
    {
     "data": {
      "text/html": [
       "<div>\n",
       "<style>\n",
       "    .dataframe thead tr:only-child th {\n",
       "        text-align: right;\n",
       "    }\n",
       "\n",
       "    .dataframe thead th {\n",
       "        text-align: left;\n",
       "    }\n",
       "\n",
       "    .dataframe tbody tr th {\n",
       "        vertical-align: top;\n",
       "    }\n",
       "</style>\n",
       "<table border=\"1\" class=\"dataframe\">\n",
       "  <thead>\n",
       "    <tr style=\"text-align: right;\">\n",
       "      <th></th>\n",
       "    </tr>\n",
       "  </thead>\n",
       "  <tbody>\n",
       "  </tbody>\n",
       "</table>\n",
       "</div>"
      ],
      "text/plain": [
       "Empty DataFrame\n",
       "Columns: []\n",
       "Index: []"
      ]
     },
     "execution_count": 91,
     "metadata": {},
     "output_type": "execute_result"
    }
   ],
   "source": [
    "census_pd.head()"
   ]
  },
  {
   "cell_type": "code",
   "execution_count": 92,
   "metadata": {
    "collapsed": true
   },
   "outputs": [],
   "source": [
    "l_census=[]\n",
    "#for y in years:\n",
    "c = Census(\"85ac64b6b5a9c0901b00329d1ef41f0c53ccfc98\", year=2012)\n",
    "    # Run Census Search to retrieve data on all zip codes (2013 ACS5 Census)\n",
    "    # See: https://github.com/CommerceDataService/census-wrapper for library documentation\n",
    "    # See: https://gist.github.com/afhaque/60558290d6efd892351c4b64e5c01e9b for labels\n",
    "census_data =c.acs5.get((\"NAME\",\"B01003_001E\",\"B01002_001E\",\"B08136_003E\",\n",
    "                             \"B19013_001E\",\"B19301_001E\",\"B02001_003E\",\n",
    "                             \"B02001_002E\", \"B17001_002E\",\"B25035_001E\",\n",
    "                            # \"B15003_023E\",\n",
    "                             \"B23025_005E\",\"C24010_008E\",\n",
    "                             \"B25077_001E\"),\n",
    "                            {\"for\": \"zip code tabulation area:*\"})\n",
    "    # Convert to DataFrame\n",
    "census_pd_2012 = pd.DataFrame(census_data)\n",
    " \n",
    "    # Column Reordering\n",
    "census_pd_2012 = census_pd_2012.rename(columns={\"B01003_001E\": \"Population 2012\",\n",
    "                                          \"B01002_001E\": \"Median Age 2012\",\n",
    "                                          \"B08136_003E\": \"Commute Time 2012\",\n",
    "                                          \"B19013_001E\": \"Household Income 2012\",\n",
    "                                          \"B19301_001E\": \"Per Capita Income 2012\",\n",
    "                                          \"B02001_003E\": \"Black Population 2012\",\n",
    "                                          \"B02001_002E\": \"White Population2012\",\n",
    "                                          \"B17001_002E\": \"Poverty Count2012\",\n",
    "                                          \"B25035_001E\": \"Median Home Year2012\",\n",
    "                                          \"B15003_022E\": \"Bachelors2012\",\n",
    "#                                           \"B15003_023E\": \"Masters\",\n",
    "                                          \"B23025_005E\": \"Unemployed 2012\",\n",
    "                                          \"C24010_008E\": \"STEM 2012\",\n",
    "                                          \"B25035_001E\": \"median_house_construction_year 2012\",\n",
    "                                          \"B25058_001E\": \"median_contract_rent 2012\",\n",
    "                                          \"B25064_001E\": \"median_gross_rent 2012\",\n",
    "                                          \"B25077_001E\": \"median_home_value 2012\",\n",
    "                                          \"B25088_002E\": \"median_monthly_owner_costs2012\",\n",
    "                                          \"NAME\": \"Name 2012\", \"zip code tabulation area\": \"Zipcode\"})"
   ]
  },
  {
   "cell_type": "code",
   "execution_count": 93,
   "metadata": {},
   "outputs": [
    {
     "data": {
      "text/html": [
       "<div>\n",
       "<style>\n",
       "    .dataframe thead tr:only-child th {\n",
       "        text-align: right;\n",
       "    }\n",
       "\n",
       "    .dataframe thead th {\n",
       "        text-align: left;\n",
       "    }\n",
       "\n",
       "    .dataframe tbody tr th {\n",
       "        vertical-align: top;\n",
       "    }\n",
       "</style>\n",
       "<table border=\"1\" class=\"dataframe\">\n",
       "  <thead>\n",
       "    <tr style=\"text-align: right;\">\n",
       "      <th></th>\n",
       "    </tr>\n",
       "  </thead>\n",
       "  <tbody>\n",
       "  </tbody>\n",
       "</table>\n",
       "</div>"
      ],
      "text/plain": [
       "Empty DataFrame\n",
       "Columns: []\n",
       "Index: []"
      ]
     },
     "execution_count": 93,
     "metadata": {},
     "output_type": "execute_result"
    }
   ],
   "source": [
    "census_pd.head()"
   ]
  },
  {
   "cell_type": "code",
   "execution_count": 94,
   "metadata": {
    "collapsed": true
   },
   "outputs": [],
   "source": [
    "l_census=[]\n",
    "#for y in years:\n",
    "c = Census(\"85ac64b6b5a9c0901b00329d1ef41f0c53ccfc98\", year=2013)\n",
    "    # Run Census Search to retrieve data on all zip codes (2013 ACS5 Census)\n",
    "    # See: https://github.com/CommerceDataService/census-wrapper for library documentation\n",
    "    # See: https://gist.github.com/afhaque/60558290d6efd892351c4b64e5c01e9b for labels\n",
    "census_data =c.acs5.get((\"NAME\",\"B01003_001E\",\"B01002_001E\",\"B08136_003E\",\n",
    "                             \"B19013_001E\",\"B19301_001E\",\"B02001_003E\",\n",
    "                             \"B02001_002E\", \"B17001_002E\",\"B25035_001E\",\n",
    "                            # \"B15003_023E\",\n",
    "                             \"B23025_005E\",\"C24010_008E\",\n",
    "                             \"B25077_001E\"),\n",
    "                            {\"for\": \"zip code tabulation area:*\"})\n",
    "    # Convert to DataFrame\n",
    "census_pd_2013 = pd.DataFrame(census_data)\n",
    " \n",
    "    # Column Reordering\n",
    "census_pd_2013 = census_pd_2013.rename(columns={\"B01003_001E\": \"Population 2013\",\n",
    "                                          \"B01002_001E\": \"Median Age 2013\",\n",
    "                                          \"B08136_003E\": \"Commute Time 2013\",\n",
    "                                          \"B19013_001E\": \"Household Income 2013\",\n",
    "                                          \"B19301_001E\": \"Per Capita Income 2013\",\n",
    "                                          \"B02001_003E\": \"Black Population 2013\",\n",
    "                                          \"B02001_002E\": \"White Population 2013\",\n",
    "                                          \"B17001_002E\": \"Poverty Count 2013\",\n",
    "                                          \"B25035_001E\": \"Median Home Year2013\",\n",
    "                                          \"B15003_022E\": \"Bachelors 2013\",\n",
    "#                                           \"B15003_023E\": \"Masters\",\n",
    "                                          \"B23025_005E\": \"Unemployed 2013\",\n",
    "                                          \"C24010_008E\": \"STEM 2013\",\n",
    "                                          \"B25035_001E\": \"median_house_construction_year 2013\",\n",
    "                                          \"B25058_001E\": \"median_contract_rent 2013\",\n",
    "                                          \"B25064_001E\": \"median_gross_rent2013\",\n",
    "                                          \"B25077_001E\": \"median_home_value2013\",\n",
    "                                          \"B25088_002E\": \"median_monthly_owner_costs2013\",\n",
    "                                          \"NAME\": \"Name\", \"zip code tabulation area\": \"Zipcode\"})"
   ]
  },
  {
   "cell_type": "code",
   "execution_count": 95,
   "metadata": {},
   "outputs": [
    {
     "data": {
      "text/html": [
       "<div>\n",
       "<style>\n",
       "    .dataframe thead tr:only-child th {\n",
       "        text-align: right;\n",
       "    }\n",
       "\n",
       "    .dataframe thead th {\n",
       "        text-align: left;\n",
       "    }\n",
       "\n",
       "    .dataframe tbody tr th {\n",
       "        vertical-align: top;\n",
       "    }\n",
       "</style>\n",
       "<table border=\"1\" class=\"dataframe\">\n",
       "  <thead>\n",
       "    <tr style=\"text-align: right;\">\n",
       "      <th></th>\n",
       "    </tr>\n",
       "  </thead>\n",
       "  <tbody>\n",
       "  </tbody>\n",
       "</table>\n",
       "</div>"
      ],
      "text/plain": [
       "Empty DataFrame\n",
       "Columns: []\n",
       "Index: []"
      ]
     },
     "execution_count": 95,
     "metadata": {},
     "output_type": "execute_result"
    }
   ],
   "source": [
    "census_pd.head()"
   ]
  },
  {
   "cell_type": "code",
   "execution_count": 96,
   "metadata": {
    "collapsed": true
   },
   "outputs": [],
   "source": [
    "l_census=[]\n",
    "#for y in years:\n",
    "c = Census(\"85ac64b6b5a9c0901b00329d1ef41f0c53ccfc98\", year=2014)\n",
    "    # Run Census Search to retrieve data on all zip codes (2013 ACS5 Census)\n",
    "    # See: https://github.com/CommerceDataService/census-wrapper for library documentation\n",
    "    # See: https://gist.github.com/afhaque/60558290d6efd892351c4b64e5c01e9b for labels\n",
    "census_data =c.acs5.get((\"NAME\",\"B01003_001E\",\"B01002_001E\",\"B08136_003E\",\n",
    "                             \"B19013_001E\",\"B19301_001E\",\"B02001_003E\",\n",
    "                             \"B02001_002E\", \"B17001_002E\",\"B25035_001E\",\n",
    "                            # \"B15003_023E\",\n",
    "                             \"B23025_005E\",\"C24010_008E\",\n",
    "                             \"B25077_001E\"),\n",
    "                            {\"for\": \"zip code tabulation area:*\"})\n",
    "    # Convert to DataFrame\n",
    "census_pd_2014 = pd.DataFrame(census_data)\n",
    " \n",
    "    # Column Reordering\n",
    "census_pd_2014 = census_pd_2014.rename(columns={\"B01003_001E\": \"Population 2014\",\n",
    "                                          \"B01002_001E\": \"Median Age 2014\",\n",
    "                                          \"B08136_003E\": \"Commute Time 2014\",\n",
    "                                          \"B19013_001E\": \"Household Income 2014\",\n",
    "                                          \"B19301_001E\": \"Per Capita Income 2014\",\n",
    "                                          \"B02001_003E\": \"Black Population 2014\",\n",
    "                                          \"B02001_002E\": \"White Population 2014\",\n",
    "                                          \"B17001_002E\": \"Poverty Count 2014\",\n",
    "                                          \"B25035_001E\": \"Median Home Year 2014\",\n",
    "                                          \"B15003_022E\": \"Bachelors 2014\",\n",
    "#                                           \"B15003_023E\": \"Masters\",\n",
    "                                          \"B23025_005E\": \"Unemployed 2014\",\n",
    "                                          \"C24010_008E\": \"STEM 2014\",\n",
    "                                          \"B25035_001E\": \"median_house_construction_year 2014\",\n",
    "                                          \"B25058_001E\": \"median_contract_rent 2014\",\n",
    "                                          \"B25064_001E\": \"median_gross_rent 2014\",\n",
    "                                          \"B25077_001E\": \"median_home_value 2014\",\n",
    "                                          \"B25088_002E\": \"median_monthly_owner_costs 2014\",\n",
    "                                          \"NAME\": \"Name\", \"zip code tabulation area\": \"Zipcode\"})"
   ]
  },
  {
   "cell_type": "code",
   "execution_count": 97,
   "metadata": {},
   "outputs": [
    {
     "data": {
      "text/html": [
       "<div>\n",
       "<style>\n",
       "    .dataframe thead tr:only-child th {\n",
       "        text-align: right;\n",
       "    }\n",
       "\n",
       "    .dataframe thead th {\n",
       "        text-align: left;\n",
       "    }\n",
       "\n",
       "    .dataframe tbody tr th {\n",
       "        vertical-align: top;\n",
       "    }\n",
       "</style>\n",
       "<table border=\"1\" class=\"dataframe\">\n",
       "  <thead>\n",
       "    <tr style=\"text-align: right;\">\n",
       "      <th></th>\n",
       "    </tr>\n",
       "  </thead>\n",
       "  <tbody>\n",
       "  </tbody>\n",
       "</table>\n",
       "</div>"
      ],
      "text/plain": [
       "Empty DataFrame\n",
       "Columns: []\n",
       "Index: []"
      ]
     },
     "execution_count": 97,
     "metadata": {},
     "output_type": "execute_result"
    }
   ],
   "source": [
    "census_pd.head()"
   ]
  },
  {
   "cell_type": "code",
   "execution_count": 98,
   "metadata": {
    "collapsed": true
   },
   "outputs": [],
   "source": [
    "l_census=[]\n",
    "#for y in years:\n",
    "c = Census(\"85ac64b6b5a9c0901b00329d1ef41f0c53ccfc98\", year=2015)\n",
    "    # Run Census Search to retrieve data on all zip codes (2013 ACS5 Census)\n",
    "    # See: https://github.com/CommerceDataService/census-wrapper for library documentation\n",
    "    # See: https://gist.github.com/afhaque/60558290d6efd892351c4b64e5c01e9b for labels\n",
    "census_data =c.acs5.get((\"NAME\",\"B01003_001E\",\"B01002_001E\",\"B08136_003E\",\n",
    "                             \"B19013_001E\",\"B19301_001E\",\"B02001_003E\",\n",
    "                             \"B02001_002E\", \"B17001_002E\",\"B25035_001E\",\n",
    "                            # \"B15003_023E\",\n",
    "                             \"B23025_005E\",\"C24010_008E\",\n",
    "                             \"B25077_001E\"),\n",
    "                            {\"for\": \"zip code tabulation area:*\"})\n",
    "    # Convert to DataFrame\n",
    "census_pd_2015 = pd.DataFrame(census_data)\n",
    " \n",
    "    # Column Reordering\n",
    "census_pd_2015 = census_pd_2015.rename(columns={\"B01003_001E\": \"Population 2015\",\n",
    "                                          \"B01002_001E\": \"Median Age 2015\",\n",
    "                                          \"B08136_003E\": \"Commute Time 2015\",\n",
    "                                          \"B19013_001E\": \"Household Income 2015\",\n",
    "                                          \"B19301_001E\": \"Per Capita Income 2015\",\n",
    "                                          \"B02001_003E\": \"Black Population 2015\",\n",
    "                                          \"B02001_002E\": \"White Population 2015\",\n",
    "                                          \"B17001_002E\": \"Poverty Count 2015\",\n",
    "                                          \"B25035_001E\": \"Median Home Year 2015\",\n",
    "                                          \"B15003_022E\": \"Bachelors 2015\",\n",
    "#                                           \"B15003_023E\": \"Masters\",\n",
    "                                          \"B23025_005E\": \"Unemployed 2015\",\n",
    "                                          \"C24010_008E\": \"STEM 2015\",\n",
    "                                          \"B25035_001E\": \"median_house_construction_year 2015\",\n",
    "                                          \"B25058_001E\": \"median_contract_rent 2015\",\n",
    "                                          \"B25064_001E\": \"median_gross_rent 2015\",\n",
    "                                          \"B25077_001E\": \"median_home_value 2015\",\n",
    "                                          \"B25088_002E\": \"median_monthly_owner_costs 2015\",\n",
    "                                          \"NAME\": \"Name\", \"zip code tabulation area\": \"Zipcode\"})"
   ]
  },
  {
   "cell_type": "code",
   "execution_count": 99,
   "metadata": {},
   "outputs": [
    {
     "data": {
      "text/html": [
       "<div>\n",
       "<style>\n",
       "    .dataframe thead tr:only-child th {\n",
       "        text-align: right;\n",
       "    }\n",
       "\n",
       "    .dataframe thead th {\n",
       "        text-align: left;\n",
       "    }\n",
       "\n",
       "    .dataframe tbody tr th {\n",
       "        vertical-align: top;\n",
       "    }\n",
       "</style>\n",
       "<table border=\"1\" class=\"dataframe\">\n",
       "  <thead>\n",
       "    <tr style=\"text-align: right;\">\n",
       "      <th></th>\n",
       "    </tr>\n",
       "  </thead>\n",
       "  <tbody>\n",
       "  </tbody>\n",
       "</table>\n",
       "</div>"
      ],
      "text/plain": [
       "Empty DataFrame\n",
       "Columns: []\n",
       "Index: []"
      ]
     },
     "execution_count": 99,
     "metadata": {},
     "output_type": "execute_result"
    }
   ],
   "source": [
    "census_pd.head()"
   ]
  },
  {
   "cell_type": "code",
   "execution_count": 100,
   "metadata": {
    "collapsed": true
   },
   "outputs": [],
   "source": [
    "l_census=[]\n",
    "#for y in years:\n",
    "c = Census(\"85ac64b6b5a9c0901b00329d1ef41f0c53ccfc98\", year=2016)\n",
    "    # Run Census Search to retrieve data on all zip codes (2013 ACS5 Census)\n",
    "    # See: https://github.com/CommerceDataService/census-wrapper for library documentation\n",
    "    # See: https://gist.github.com/afhaque/60558290d6efd892351c4b64e5c01e9b for labels\n",
    "census_data =c.acs5.get((\"NAME\",\"B01003_001E\",\"B01002_001E\",\"B08136_003E\",\n",
    "                             \"B19013_001E\",\"B19301_001E\",\"B02001_003E\",\n",
    "                             \"B02001_002E\", \"B17001_002E\",\"B25035_001E\",\n",
    "                            # \"B15003_023E\",\n",
    "                             \"B23025_005E\",\"C24010_008E\",\n",
    "                             \"B25077_001E\"),\n",
    "                            {\"for\": \"zip code tabulation area:*\"})\n",
    "    # Convert to DataFrame\n",
    "census_pd_2016 = pd.DataFrame(census_data)\n",
    " \n",
    "    # Column Reordering\n",
    "census_pd_2016 = census_pd_2016.rename(columns={\"B01003_001E\": \"Population 2016\",\n",
    "                                          \"B01002_001E\": \"Median Age 2016\",\n",
    "                                          \"B08136_003E\": \"Commute Time 2016\",\n",
    "                                          \"B19013_001E\": \"Household Income 2016\",\n",
    "                                          \"B19301_001E\": \"Per Capita Income 2016\",\n",
    "                                          \"B02001_003E\": \"Black Population 2016\",\n",
    "                                          \"B02001_002E\": \"White Population 2016\",\n",
    "                                          \"B17001_002E\": \"Poverty Count 2016\",\n",
    "                                          \"B25035_001E\": \"Median Home Year 2016\",\n",
    "                                          \"B15003_022E\": \"Bachelors 2016\",\n",
    "#                                           \"B15003_023E\": \"Masters\",\n",
    "                                          \"B23025_005E\": \"Unemployed 2016\",\n",
    "                                          \"C24010_008E\": \"STEM 2016\",\n",
    "                                          \"B25035_001E\": \"median_house_construction_year 2016\",\n",
    "                                          \"B25058_001E\": \"median_contract_rent 2016\",\n",
    "                                          \"B25064_001E\": \"median_gross_rent 2016\",\n",
    "                                          \"B25077_001E\": \"median_home_value 2016\",\n",
    "                                          \"B25088_002E\": \"median_monthly_owner_costs 2016\",\n",
    "                                          \"NAME\": \"Name\", \"zip code tabulation area\": \"Zipcode\"})"
   ]
  },
  {
   "cell_type": "code",
   "execution_count": 150,
   "metadata": {},
   "outputs": [
    {
     "name": "stdout",
     "output_type": "stream",
     "text": [
      "<class 'pandas.core.frame.DataFrame'>\n",
      "RangeIndex: 33120 entries, 0 to 33119\n",
      "Data columns (total 14 columns):\n",
      "Median Age 2011                        32666 non-null object\n",
      "Population 2011                        33120 non-null object\n",
      "White Population 2011                  33120 non-null object\n",
      "Black Population 2011                  33120 non-null object\n",
      "Commute Time 2011                      9278 non-null object\n",
      "Poverty Count 2011                     33120 non-null object\n",
      "Household Income 2011                  32197 non-null object\n",
      "Per Capita Income 2011                 32481 non-null object\n",
      "Unemployed 2011                        33120 non-null object\n",
      "median_house_construction_year 2011    32387 non-null object\n",
      "median_home_value 2011                 31860 non-null object\n",
      "STEM 2011                              33120 non-null object\n",
      "Name 2011                              33120 non-null object\n",
      "Zipcode                                33120 non-null object\n",
      "dtypes: object(14)\n",
      "memory usage: 3.5+ MB\n",
      "<class 'pandas.core.frame.DataFrame'>\n",
      "Int64Index: 33120 entries, 0 to 33119\n",
      "Data columns (total 27 columns):\n",
      "Median Age 2011                        32666 non-null object\n",
      "Population 2011                        33120 non-null object\n",
      "White Population 2011                  33120 non-null object\n",
      "Black Population 2011                  33120 non-null object\n",
      "Commute Time 2011                      9278 non-null object\n",
      "Poverty Count 2011                     33120 non-null object\n",
      "Household Income 2011                  32197 non-null object\n",
      "Per Capita Income 2011                 32481 non-null object\n",
      "Unemployed 2011                        33120 non-null object\n",
      "median_house_construction_year 2011    32387 non-null object\n",
      "median_home_value 2011                 31860 non-null object\n",
      "STEM 2011                              33120 non-null object\n",
      "Name 2011                              33120 non-null object\n",
      "Zipcode                                33120 non-null object\n",
      "Median Age 2016                        33120 non-null float64\n",
      "Population 2016                        33120 non-null float64\n",
      "White Population 2016                  33120 non-null float64\n",
      "Black Population 2016                  33120 non-null float64\n",
      "Commute Time 2016                      10190 non-null float64\n",
      "Poverty Count 2016                     33120 non-null float64\n",
      "Household Income 2016                  33120 non-null float64\n",
      "Per Capita Income 2016                 32836 non-null float64\n",
      "Unemployed 2016                        33120 non-null float64\n",
      "median_house_construction_year 2016    33120 non-null float64\n",
      "median_home_value 2016                 33120 non-null float64\n",
      "STEM 2016                              33120 non-null float64\n",
      "Name                                   33120 non-null object\n",
      "dtypes: float64(12), object(15)\n",
      "memory usage: 7.1+ MB\n"
     ]
    }
   ],
   "source": [
    "census_pd_2011.info()\n",
    "census_merge= pd.merge(census_pd_2011, census_pd_2016, on='Zipcode')\n",
    "census_merge.info()\n",
    "census_merge=census_merge.dropna(how=\"any\")\n",
    "census_merge[\"Poverty Difference\"]=(census_merge[\"Poverty Count 2016\"].map(float)-census_merge[\"Poverty Count 2011\"].map(float))/census_merge[\"Poverty Count 2011\"].map(float)\n",
    "\n",
    "census_merge[\"home Price\"]=(census_merge[\"median_home_value 2016\"].map(float)-census_merge[\"median_home_value 2011\"].map(float))/census_merge[\"median_home_value 2011\"].map(float)\n",
    "\n",
    "census_merge = census_merge.replace([np.inf, -np.inf], np.nan)\n",
    "census_merge=census_merge.dropna(how=\"any\")"
   ]
  },
  {
   "cell_type": "code",
   "execution_count": 151,
   "metadata": {},
   "outputs": [
    {
     "data": {
      "image/png": "[encoded data removed]",
      "text/plain": [
       "<matplotlib.figure.Figure at 0x10a240c88>"
      ]
     },
     "metadata": {},
     "output_type": "display_data"
    }
   ],
   "source": [
    "y  = census_merge[\"Poverty Difference\"]\n",
    "x=census_merge[\"home Price\"]\n",
    "plt.scatter(x,y)\n",
    "plt.xlim(-1,1)\n",
    "plt.ylim(-1,1)\n",
    "plt.xlabel(\"Home Difference(%)\")\n",
    "plt.ylabel(\"Poverty Difference(%)\")\n",
    "plt.show()"
   ]
  },
  {
   "cell_type": "code",
   "execution_count": 153,
   "metadata": {},
   "outputs": [
    {
     "data": {
      "text/plain": [
       "(-0.048576922715410725, 0.001996453985862217)"
      ]
     },
     "execution_count": 153,
     "metadata": {},
     "output_type": "execute_result"
    }
   ],
   "source": [
    "from scipy.stats.stats import pearsonr\n",
    "\n",
    "pearsonr(x,y)"
   ]
  },
  {
   "cell_type": "code",
   "execution_count": 109,
   "metadata": {},
   "outputs": [
    {
     "name": "stdout",
     "output_type": "stream",
     "text": [
      "<class 'pandas.core.frame.DataFrame'>\n",
      "Int64Index: 6626 entries, 10 to 33119\n",
      "Data columns (total 27 columns):\n",
      "Median Age 2011                        6626 non-null object\n",
      "Population 2011                        6626 non-null object\n",
      "White Population 2011                  6626 non-null object\n",
      "Black Population 2011                  6626 non-null object\n",
      "Commute Time 2011                      6626 non-null object\n",
      "Poverty Count 2011                     6626 non-null object\n",
      "Household Income 2011                  6626 non-null object\n",
      "Per Capita Income 2011                 6626 non-null object\n",
      "Unemployed 2011                        6626 non-null object\n",
      "median_house_construction_year 2011    6626 non-null object\n",
      "median_home_value 2011                 6626 non-null object\n",
      "STEM 2011                              6626 non-null object\n",
      "Name 2011                              6626 non-null object\n",
      "Zipcode                                6626 non-null object\n",
      "Median Age 2012                        6626 non-null float64\n",
      "Population 2012                        6626 non-null float64\n",
      "White Population2012                   6626 non-null float64\n",
      "Black Population 2012                  6626 non-null float64\n",
      "Commute Time 2012                      6626 non-null float64\n",
      "Poverty Count2012                      6626 non-null float64\n",
      "Household Income 2012                  6626 non-null float64\n",
      "Per Capita Income 2012                 6626 non-null float64\n",
      "Unemployed 2012                        6626 non-null float64\n",
      "median_house_construction_year 2012    6626 non-null float64\n",
      "median_home_value 2012                 6626 non-null float64\n",
      "STEM 2012                              6626 non-null float64\n",
      "Name 2012                              6626 non-null object\n",
      "dtypes: float64(12), object(15)\n",
      "memory usage: 1.4+ MB\n"
     ]
    }
   ],
   "source": [
    "census_merge.info()"
   ]
  },
  {
   "cell_type": "code",
   "execution_count": 159,
   "metadata": {},
   "outputs": [
    {
     "name": "stdout",
     "output_type": "stream",
     "text": [
      "<class 'pandas.core.frame.DataFrame'>\n",
      "RangeIndex: 33120 entries, 0 to 33119\n",
      "Data columns (total 14 columns):\n",
      "Median Age 2011                        32666 non-null object\n",
      "Population 2011                        33120 non-null object\n",
      "White Population 2011                  33120 non-null object\n",
      "Black Population 2011                  33120 non-null object\n",
      "Commute Time 2011                      9278 non-null object\n",
      "Poverty Count 2011                     33120 non-null object\n",
      "Household Income 2011                  32197 non-null object\n",
      "Per Capita Income 2011                 32481 non-null object\n",
      "Unemployed 2011                        33120 non-null object\n",
      "median_house_construction_year 2011    32387 non-null object\n",
      "median_home_value 2011                 31860 non-null object\n",
      "STEM 2011                              33120 non-null object\n",
      "Name 2011                              33120 non-null object\n",
      "Zipcode                                33120 non-null object\n",
      "dtypes: object(14)\n",
      "memory usage: 3.5+ MB\n",
      "<class 'pandas.core.frame.DataFrame'>\n",
      "Int64Index: 33120 entries, 0 to 33119\n",
      "Data columns (total 27 columns):\n",
      "Median Age 2011                        32666 non-null object\n",
      "Population 2011                        33120 non-null object\n",
      "White Population 2011                  33120 non-null object\n",
      "Black Population 2011                  33120 non-null object\n",
      "Commute Time 2011                      9278 non-null object\n",
      "Poverty Count 2011                     33120 non-null object\n",
      "Household Income 2011                  32197 non-null object\n",
      "Per Capita Income 2011                 32481 non-null object\n",
      "Unemployed 2011                        33120 non-null object\n",
      "median_house_construction_year 2011    32387 non-null object\n",
      "median_home_value 2011                 31860 non-null object\n",
      "STEM 2011                              33120 non-null object\n",
      "Name 2011                              33120 non-null object\n",
      "Zipcode                                33120 non-null object\n",
      "Median Age 2016                        33120 non-null float64\n",
      "Population 2016                        33120 non-null float64\n",
      "White Population 2016                  33120 non-null float64\n",
      "Black Population 2016                  33120 non-null float64\n",
      "Commute Time 2016                      10190 non-null float64\n",
      "Poverty Count 2016                     33120 non-null float64\n",
      "Household Income 2016                  33120 non-null float64\n",
      "Per Capita Income 2016                 32836 non-null float64\n",
      "Unemployed 2016                        33120 non-null float64\n",
      "median_house_construction_year 2016    33120 non-null float64\n",
      "median_home_value 2016                 33120 non-null float64\n",
      "STEM 2016                              33120 non-null float64\n",
      "Name                                   33120 non-null object\n",
      "dtypes: float64(12), object(15)\n",
      "memory usage: 7.1+ MB\n"
     ]
    }
   ],
   "source": [
    "census_pd_2011.info()\n",
    "census_merge= pd.merge(census_pd_2011, census_pd_2016, on='Zipcode')\n",
    "census_merge.info()\n",
    "census_merge=census_merge.dropna(how=\"any\")\n",
    "census_merge[\"Household Income Difference\"]=(census_merge[\"Household Income 2016\"].map(float)-census_merge[\"Household Income 2011\"].map(float))/census_merge[\"Household Income 2011\"].map(float)\n",
    "\n",
    "census_merge[\"home Price\"]=(census_merge[\"median_home_value 2016\"].map(float)-census_merge[\"median_home_value 2011\"].map(float))/census_merge[\"median_home_value 2011\"].map(float)\n",
    "\n",
    "census_merge = census_merge.replace([np.inf, -np.inf], np.nan)\n",
    "census_merge=census_merge.dropna(how=\"any\")"
   ]
  },
  {
   "cell_type": "code",
   "execution_count": null,
   "metadata": {
    "collapsed": true
   },
   "outputs": [],
   "source": []
  },
  {
   "cell_type": "code",
   "execution_count": 160,
   "metadata": {},
   "outputs": [
    {
     "data": {
      "image/png": "[encoded data removed]",
      "text/plain": [
       "<matplotlib.figure.Figure at 0x1090f6588>"
      ]
     },
     "metadata": {},
     "output_type": "display_data"
    }
   ],
   "source": [
    "y  = census_merge[\"Household Income Difference\"]\n",
    "x=census_merge[\"home Price\"]\n",
    "plt.scatter(x,y)\n",
    "plt.xlim(-0.5,0.6)\n",
    "plt.ylim(-0.5,0.6)\n",
    "plt.xlabel(\"Home Difference(%)\")\n",
    "plt.ylabel(\"Household INCOME Difference(%)\")\n",
    "plt.show()"
   ]
  },
  {
   "cell_type": "code",
   "execution_count": 161,
   "metadata": {},
   "outputs": [
    {
     "data": {
      "text/plain": [
       "(0.36524011906484832, 1.5669535524656618e-132)"
      ]
     },
     "execution_count": 161,
     "metadata": {},
     "output_type": "execute_result"
    }
   ],
   "source": [
    "pearsonr(x,y)"
   ]
  },
  {
   "cell_type": "code",
   "execution_count": 162,
   "metadata": {},
   "outputs": [
    {
     "name": "stdout",
     "output_type": "stream",
     "text": [
      "<class 'pandas.core.frame.DataFrame'>\n",
      "RangeIndex: 33120 entries, 0 to 33119\n",
      "Data columns (total 14 columns):\n",
      "Median Age 2011                        32666 non-null object\n",
      "Population 2011                        33120 non-null object\n",
      "White Population 2011                  33120 non-null object\n",
      "Black Population 2011                  33120 non-null object\n",
      "Commute Time 2011                      9278 non-null object\n",
      "Poverty Count 2011                     33120 non-null object\n",
      "Household Income 2011                  32197 non-null object\n",
      "Per Capita Income 2011                 32481 non-null object\n",
      "Unemployed 2011                        33120 non-null object\n",
      "median_house_construction_year 2011    32387 non-null object\n",
      "median_home_value 2011                 31860 non-null object\n",
      "STEM 2011                              33120 non-null object\n",
      "Name 2011                              33120 non-null object\n",
      "Zipcode                                33120 non-null object\n",
      "dtypes: object(14)\n",
      "memory usage: 3.5+ MB\n",
      "<class 'pandas.core.frame.DataFrame'>\n",
      "Int64Index: 33120 entries, 0 to 33119\n",
      "Data columns (total 27 columns):\n",
      "Median Age 2011                        32666 non-null object\n",
      "Population 2011                        33120 non-null object\n",
      "White Population 2011                  33120 non-null object\n",
      "Black Population 2011                  33120 non-null object\n",
      "Commute Time 2011                      9278 non-null object\n",
      "Poverty Count 2011                     33120 non-null object\n",
      "Household Income 2011                  32197 non-null object\n",
      "Per Capita Income 2011                 32481 non-null object\n",
      "Unemployed 2011                        33120 non-null object\n",
      "median_house_construction_year 2011    32387 non-null object\n",
      "median_home_value 2011                 31860 non-null object\n",
      "STEM 2011                              33120 non-null object\n",
      "Name 2011                              33120 non-null object\n",
      "Zipcode                                33120 non-null object\n",
      "Median Age 2016                        33120 non-null float64\n",
      "Population 2016                        33120 non-null float64\n",
      "White Population 2016                  33120 non-null float64\n",
      "Black Population 2016                  33120 non-null float64\n",
      "Commute Time 2016                      10190 non-null float64\n",
      "Poverty Count 2016                     33120 non-null float64\n",
      "Household Income 2016                  33120 non-null float64\n",
      "Per Capita Income 2016                 32836 non-null float64\n",
      "Unemployed 2016                        33120 non-null float64\n",
      "median_house_construction_year 2016    33120 non-null float64\n",
      "median_home_value 2016                 33120 non-null float64\n",
      "STEM 2016                              33120 non-null float64\n",
      "Name                                   33120 non-null object\n",
      "dtypes: float64(12), object(15)\n",
      "memory usage: 7.1+ MB\n"
     ]
    }
   ],
   "source": [
    "census_pd_2011.info()\n",
    "census_merge= pd.merge(census_pd_2011, census_pd_2016, on='Zipcode')\n",
    "census_merge.info()\n",
    "census_merge=census_merge.dropna(how=\"any\")\n",
    "census_merge[\"Unemployed Difference\"]=(census_merge[\"Unemployed 2016\"].map(float)-census_merge[\"Unemployed 2011\"].map(float))/census_merge[\"Unemployed 2011\"].map(float)\n",
    "\n",
    "census_merge[\"home Price\"]=(census_merge[\"median_home_value 2016\"].map(float)-census_merge[\"median_home_value 2011\"].map(float))/census_merge[\"median_home_value 2011\"].map(float)\n",
    "\n",
    "census_merge = census_merge.replace([np.inf, -np.inf], np.nan)\n",
    "census_merge=census_merge.dropna(how=\"any\")"
   ]
  },
  {
   "cell_type": "code",
   "execution_count": 171,
   "metadata": {},
   "outputs": [
    {
     "data": {
      "image/png": "[encoded data removed]",
      "text/plain": [
       "<matplotlib.figure.Figure at 0x10c286d30>"
      ]
     },
     "metadata": {},
     "output_type": "display_data"
    }
   ],
   "source": [
    "y  = census_merge[\"Unemployed Difference\"]\n",
    "x=census_merge[\"home Price\"]\n",
    "plt.scatter(x,y)\n",
    "plt.xlim(-2.5,2.5)\n",
    "plt.ylim(-1.4,5)\n",
    "plt.xlabel(\"Home price Difference(%)\")\n",
    "plt.ylabel(\" Unenployment(%)\")\n",
    "plt.show()"
   ]
  },
  {
   "cell_type": "code",
   "execution_count": 172,
   "metadata": {},
   "outputs": [
    {
     "data": {
      "text/plain": [
       "(0.025296392901011201, 0.11228786777299968)"
      ]
     },
     "execution_count": 172,
     "metadata": {},
     "output_type": "execute_result"
    }
   ],
   "source": [
    "pearsonr(x,y)"
   ]
  },
  {
   "cell_type": "code",
   "execution_count": null,
   "metadata": {
    "collapsed": true
   },
   "outputs": [],
   "source": []
  }
 ],
 "metadata": {
  "kernelspec": {
   "display_name": "Python 3",
   "language": "python",
   "name": "python3"
  },
  "language_info": {
   "codemirror_mode": {
    "name": "ipython",
    "version": 3
   },
   "file_extension": ".py",
   "mimetype": "text/x-python",
   "name": "python",
   "nbconvert_exporter": "python",
   "pygments_lexer": "ipython3",
   "version": "3.6.2"
  }
 },
 "nbformat": 4,
 "nbformat_minor": 2
}
