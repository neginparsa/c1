{
 "cells": [
  {
   "cell_type": "code",
   "execution_count": null,
   "metadata": {
    "scrolled": false
   },
   "outputs": [],
   "source": [
    "# Dependencies\n",
    "import numpy as np\n",
    "import pandas as pd\n",
    "import matplotlib.pyplot as plt \n",
    "import requests\n",
    "from census import Census\n",
    "from us import states\n",
    "#! pip install us"
   ]
  },
  {
   "cell_type": "code",
   "execution_count": null,
   "metadata": {},
   "outputs": [],
   "source": [
    "\n",
    "# Census API Key\n",
    "years = [2011, 2012, 2013, 2014, 2015,2016]\n",
    "l_census=[]\n",
    "for y in years:\n",
    "    c = Census(\"85ac64b6b5a9c0901b00329d1ef41f0c53ccfc98\", year=y)\n",
    "    # Run Census Search to retrieve data on all zip codes (2013 ACS5 Census)\n",
    "    # See: https://github.com/CommerceDataService/census-wrapper for library documentation\n",
    "    # See: https://gist.github.com/afhaque/60558290d6efd892351c4b64e5c01e9b for labels\n",
    "    census_data =c.acs5.get((\"NAME\",\"B01003_001E\",\"B01002_001E\",\"B08136_003E\",\n",
    "                             \"B19013_001E\",\"B19301_001E\",\"B02001_003E\",\n",
    "                             \"B02001_002E\", \"B17001_002E\",\"B25035_001E\",\n",
    "                             \"B15003_023E\",\n",
    "                             \"B23025_005E\",\"C24010_008E\",\n",
    "                             \"B25077_001E\"),\n",
    "                            {\"for\": \"zip code tabulation area:*\"})\n",
    "    # Convert to DataFrame\n",
    "    census_pd = pd.DataFrame(census_data)\n",
    "\n",
    "    # Column Reordering\n",
    "    census_pd = census_pd.rename(columns={\"B01003_001E\": \"Population\",\n",
    "                                          \"B01002_001E\": \"Median Age\",\n",
    "                                          \"B08136_003E\": \"Commute Time\",\n",
    "                                          \"B19013_001E\": \"Household Income\",\n",
    "                                          \"B19301_001E\": \"Per Capita Income\",\n",
    "                                          \"B02001_003E\": \"Black Population\",\n",
    "                                          \"B02001_002E\": \"White Population\",\n",
    "                                          \"B17001_002E\": \"Poverty Count\",\n",
    "                                          \"B25035_001E\": \"Median Home Year\",\n",
    "                                          \"B15003_022E\": \"Bachelors\",\n",
    "                                          \"B15003_023E\": \"Masters\",\n",
    "                                          \"B23025_005E\": \"Unemployed\",\n",
    "                                          \"C24010_008E\": \"STEM\",\n",
    "                                          \"B25035_001E\": \"median_house_construction_year\",\n",
    "                                          \"B25058_001E\": \"median_contract_rent\",\n",
    "                                          \"B25064_001E\": \"median_gross_rent\",\n",
    "                                          \"B25077_001E\": \"median_home_value\",\n",
    "                                          \"B25088_002E\": \"median_monthly_owner_costs\",\n",
    "                                          \"NAME\": \"Name\", \"zip code tabulation area\": \"Zipcode\"})\n",
    "    census_pd['Year'] = y\n",
    "\n",
    "\n",
    "    # Visualize\n",
    "    #print(len(census_pd))\n",
    "l_census.append(census_pd)"
   ]
  },
  {
   "cell_type": "code",
   "execution_count": null,
   "metadata": {},
   "outputs": [],
   "source": [
    "l_census\n"
   ]
  },
  {
   "cell_type": "code",
   "execution_count": null,
   "metadata": {
    "collapsed": true
   },
   "outputs": [],
   "source": []
  }
 ],
 "metadata": {
  "kernelspec": {
   "display_name": "Python 3",
   "language": "python",
   "name": "python3"
  },
  "language_info": {
   "codemirror_mode": {
    "name": "ipython",
    "version": 3
   },
   "file_extension": ".py",
   "mimetype": "text/x-python",
   "name": "python",
   "nbconvert_exporter": "python",
   "pygments_lexer": "ipython3",
   "version": "3.6.1"
  }
 },
 "nbformat": 4,
 "nbformat_minor": 2
}

